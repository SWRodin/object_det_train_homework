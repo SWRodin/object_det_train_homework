{
 "cells": [
  {
   "cell_type": "markdown",
   "metadata": {
    "id": "rW6CHPtifC94"
   },
   "source": [
    "# Домашнее задание: Object Detection (train)\n",
    "\n",
    "Обучить object detection модель из [Detectron2](https://github.com/facebookresearch/detectron2) детектировать игроков в баскетбольном матче. Число классов: 2 (две команды). \n",
    "\n",
    "В качестве модели следует взять одну из [предобученных моделей](https://github.com/facebookresearch/detectron2/blob/main/MODEL_ZOO.md) (Faster R-CNN или RetinaNet).\n",
    "\n",
    "Пример того, как обучать Detectron2 на своем датасете можно найти [здесь](https://colab.research.google.com/drive/1Xdm2KrBauT0lEyKFEiLie7nhzXajgEkH?usp=sharing).\n",
    "\n",
    "### Датасет:\n",
    "Скачайте датасет [otus_basketball_dataset](https://disk.yandex.ru/d/thdvaAKQS3ASXA) и распакуйте. Внутри находятся папки `images_train` (400 изображений) и `images_test` (100 изображений), а также файлы с аннотациями к ним: `anno_train.json` и `anno_test.json`. Файлы с аннотациями имеет следующую структуру:\n",
    "```\n",
    "image_name: {\n",
    "     player_id: {\n",
    "             'box': [x,y,w,h],\n",
    "             'team': int\n",
    "     }\n",
    "     .....\n",
    "}\n",
    "....\n",
    "```\n",
    "Здесь `image_name` - имя изображения в соответствующей папке,<br>\n",
    "`player_id` - id игрока в текущем изображении (в данном задании id не важен),<br>\n",
    "`'box': [x,y,w,h]` - bounding box соответствующего игрока (координаты нормализованы от 0 до 1, поэтому их нужно домножить на размеры изображения, чтобы перевести их в целые координаты фрейма),<br>\n",
    "`'team': int` - id команды к которой принадлежит игрок  в данном кадре (может принимать значения 0 или 1).\n",
    "\n",
    "\n",
    "### Задачи:\n",
    "1) Адаптировать датасет к внутреннему формату датасетов Detectron2 и обучить модель.\n",
    "\n",
    "2) Посчитать метрику COCO mAP (можно использовать любую готовую библиотеку).\n",
    "\n",
    "3) [Опционально] Реализовать вручную вычисление метрики IoU для предсказанных боксов и ground truth.\n",
    "\n",
    "4) [Опционально] Реализовать вручную вычисление Precision и Recall и построить Precision-Recall кривую.\n",
    "\n",
    "### Баллы:\n",
    "+3 балл за пункты 1 и 2<br>\n",
    "+1 балл за выполнение пункта 3<br>\n",
    "+1 балл за выполнение пункта 4<br>"
   ]
  },
  {
   "cell_type": "code",
   "execution_count": 1,
   "metadata": {
    "id": "YhQst184fC98"
   },
   "outputs": [
    {
     "ename": "ModuleNotFoundError",
     "evalue": "No module named 'torch'",
     "output_type": "error",
     "traceback": [
      "\u001b[1;31m---------------------------------------------------------------------------\u001b[0m",
      "\u001b[1;31mModuleNotFoundError\u001b[0m                       Traceback (most recent call last)",
      "\u001b[1;32m<ipython-input-1-9a63c7549d8a>\u001b[0m in \u001b[0;36m<module>\u001b[1;34m\u001b[0m\n\u001b[0;32m      1\u001b[0m \u001b[1;31m# check pytorch installation:\u001b[0m\u001b[1;33m\u001b[0m\u001b[1;33m\u001b[0m\u001b[1;33m\u001b[0m\u001b[0m\n\u001b[1;32m----> 2\u001b[1;33m \u001b[1;32mimport\u001b[0m \u001b[0mtorch\u001b[0m\u001b[1;33m,\u001b[0m \u001b[0mtorchvision\u001b[0m\u001b[1;33m\u001b[0m\u001b[1;33m\u001b[0m\u001b[0m\n\u001b[0m\u001b[0;32m      3\u001b[0m \u001b[0mprint\u001b[0m\u001b[1;33m(\u001b[0m\u001b[0mtorch\u001b[0m\u001b[1;33m.\u001b[0m\u001b[0m__version__\u001b[0m\u001b[1;33m,\u001b[0m \u001b[0mtorch\u001b[0m\u001b[1;33m.\u001b[0m\u001b[0mcuda\u001b[0m\u001b[1;33m.\u001b[0m\u001b[0mis_available\u001b[0m\u001b[1;33m(\u001b[0m\u001b[1;33m)\u001b[0m\u001b[1;33m)\u001b[0m\u001b[1;33m\u001b[0m\u001b[1;33m\u001b[0m\u001b[0m\n\u001b[0;32m      4\u001b[0m \u001b[1;32massert\u001b[0m \u001b[0mtorch\u001b[0m\u001b[1;33m.\u001b[0m\u001b[0m__version__\u001b[0m\u001b[1;33m.\u001b[0m\u001b[0mstartswith\u001b[0m\u001b[1;33m(\u001b[0m\u001b[1;34m\"1.9\"\u001b[0m\u001b[1;33m)\u001b[0m   \u001b[1;31m# please manually install torch 1.9 if Colab changes its default version\u001b[0m\u001b[1;33m\u001b[0m\u001b[1;33m\u001b[0m\u001b[0m\n",
      "\u001b[1;31mModuleNotFoundError\u001b[0m: No module named 'torch'"
     ]
    }
   ],
   "source": [
    "# check pytorch installation: \n",
    "import torch, torchvision\n",
    "print(torch.__version__, torch.cuda.is_available())\n",
    "assert torch.__version__.startswith(\"1.9\")   # please manually install torch 1.9 if Colab changes its default version"
   ]
  },
  {
   "cell_type": "code",
   "execution_count": 8,
   "metadata": {
    "colab": {
     "base_uri": "https://localhost:8080/"
    },
    "id": "4Qg7zSVOulkb",
    "outputId": "208cf83c-b6de-4920-a186-046c1b876e53"
   },
   "outputs": [
    {
     "name": "stdout",
     "output_type": "stream",
     "text": [
      "--2021-10-08 09:07:47--  https://disk.yandex.ru/d/1MC25T-BEUkztg\n",
      "Resolving disk.yandex.ru (disk.yandex.ru)... 87.250.250.50, 2a02:6b8::2:50\n",
      "Connecting to disk.yandex.ru (disk.yandex.ru)|87.250.250.50|:443... connected.\n",
      "HTTP request sent, awaiting response... 200 OK\n",
      "Length: 31454 (31K) [text/html]\n",
      "Saving to: ‘1MC25T-BEUkztg.2’\n",
      "\n",
      "1MC25T-BEUkztg.2    100%[===================>]  30.72K  --.-KB/s    in 0.1s    \n",
      "\n",
      "2021-10-08 09:07:48 (213 KB/s) - ‘1MC25T-BEUkztg.2’ saved [31454/31454]\n",
      "\n",
      "  End-of-central-directory signature not found.  Either this file is not\n",
      "  a zipfile, or it constitutes one disk of a multi-part archive.  In the\n",
      "  latter case the central directory and zipfile comment will be found on\n",
      "  the last disk(s) of this archive.\n",
      "unzip:  cannot find zipfile directory in one of otus_basketball_dataset.zip or\n",
      "        otus_basketball_dataset.zip.zip, and cannot find otus_basketball_dataset.zip.ZIP, period.\n"
     ]
    }
   ],
   "source": []
  }
 ],
 "metadata": {
  "colab": {
   "name": "Копия блокнота \"object_det_train_homework.ipynb\"",
   "provenance": []
  },
  "kernelspec": {
   "display_name": "Python 3",
   "language": "python",
   "name": "python3"
  },
  "language_info": {
   "codemirror_mode": {
    "name": "ipython",
    "version": 3
   },
   "file_extension": ".py",
   "mimetype": "text/x-python",
   "name": "python",
   "nbconvert_exporter": "python",
   "pygments_lexer": "ipython3",
   "version": "3.8.8"
  }
 },
 "nbformat": 4,
 "nbformat_minor": 1
}
